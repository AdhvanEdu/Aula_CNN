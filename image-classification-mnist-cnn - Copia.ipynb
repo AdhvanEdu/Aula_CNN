{
 "cells": [
  {
   "cell_type": "markdown",
   "metadata": {},
   "source": [
    "# Classificação de imagens do dataset MNIST com CNN\n"
   ]
  },
  {
   "cell_type": "markdown",
   "metadata": {},
   "source": [
    "## A Operação de Convolução\n",
    "![title](img/convolution.gif)\n"
   ]
  },
  {
   "cell_type": "markdown",
   "metadata": {},
   "source": [
    "## Redes Neurais Convolucionais (Convolutional Neural Networks - CNN)\n",
    "\n",
    "![title](img/cnn.png)"
   ]
  },
  {
   "cell_type": "code",
   "execution_count": 1,
   "metadata": {
    "colab": {
     "base_uri": "https://localhost:8080/",
     "height": 53
    },
    "colab_type": "code",
    "id": "hee6VjKqIJ3L",
    "outputId": "c1d34f4d-09db-4d7e-d149-7e54bc20fc97"
   },
   "outputs": [],
   "source": [
    "import warnings\n",
    "warnings.filterwarnings('ignore')\n",
    "import tensorflow as tf\n",
    "from sklearn.model_selection import train_test_split, cross_val_score\n",
    "#tf.compat.v1.disable_v2_behavior()\n",
    "\n",
    "\n",
    "(x_train, y_train), (x_test, y_test) = tf.keras.datasets.mnist.load_data()\n"
   ]
  },
  {
   "cell_type": "code",
   "execution_count": 2,
   "metadata": {
    "colab": {
     "base_uri": "https://localhost:8080/",
     "height": 301
    },
    "colab_type": "code",
    "id": "bTEIbr4BIiSa",
    "outputId": "96099d8b-9689-4188-fe59-d39bec530845"
   },
   "outputs": [
    {
     "name": "stdout",
     "output_type": "stream",
     "text": [
      "6\n"
     ]
    },
    {
     "data": {
      "text/plain": [
       "<matplotlib.image.AxesImage at 0x26ebd6ec700>"
      ]
     },
     "execution_count": 2,
     "metadata": {},
     "output_type": "execute_result"
    },
    {
     "data": {
      "image/png": "[encoded data removed]",
      "text/plain": [
       "<Figure size 432x288 with 1 Axes>"
      ]
     },
     "metadata": {
      "needs_background": "light"
     },
     "output_type": "display_data"
    }
   ],
   "source": [
    "import matplotlib.pyplot as plt\n",
    "%matplotlib inline \n",
    "# Funciona somente se utilizar iPython\n",
    "i = 129 # 0-59.999\n",
    "print(y_train[i])\n",
    "plt.imshow(x_train[i])"
   ]
  },
  {
   "cell_type": "code",
   "execution_count": 3,
   "metadata": {
    "colab": {
     "base_uri": "https://localhost:8080/",
     "height": 35
    },
    "colab_type": "code",
    "id": "O0WVCJiSRZ2Q",
    "outputId": "16157193-3403-4d17-d363-ab17fe7bdbc6"
   },
   "outputs": [
    {
     "data": {
      "text/plain": [
       "(60000, 28, 28)"
      ]
     },
     "execution_count": 3,
     "metadata": {},
     "output_type": "execute_result"
    }
   ],
   "source": [
    "x_train.shape"
   ]
  },
  {
   "cell_type": "code",
   "execution_count": 4,
   "metadata": {
    "colab": {
     "base_uri": "https://localhost:8080/",
     "height": 71
    },
    "colab_type": "code",
    "id": "Q2HtE2HoSEWQ",
    "outputId": "d77c8e0a-288f-47df-98e6-8841cd83b8b2",
    "scrolled": true
   },
   "outputs": [
    {
     "name": "stdout",
     "output_type": "stream",
     "text": [
      "Shape de x_train (30000, 28, 28, 1)\n",
      "Shape de x_val (30000, 28, 28, 1)\n",
      "Shape de x_test (10000, 28, 28, 1)\n",
      "Shape de y_train (30000,)\n",
      "Shape de y_val (30000,)\n",
      "Shape de y_test (10000,)\n",
      "6\n"
     ]
    }
   ],
   "source": [
    "# Reshaping o array para 4D a fim de poder trabalhar com a API Keras\n",
    "x_train = x_train.reshape(x_train.shape[0], 28, 28, 1)\n",
    "x_test = x_test.reshape(x_test.shape[0], 28, 28, 1)\n",
    "input_shape = (28, 28, 1)\n",
    "# Converte para float\n",
    "x_train = x_train.astype('float32')\n",
    "x_test = x_test.astype('float32')\n",
    "# Normalizando os valores RGB das imagens, pelo valor máximo de um RGB\n",
    "x_train /= 255\n",
    "x_test /= 255\n",
    "\n",
    "x_train, x_val, y_train, y_val = train_test_split(x_train, y_train, test_size=0.5)\n",
    "\n",
    "print('Shape de x_train', x_train.shape)\n",
    "print('Shape de x_val', x_val.shape)\n",
    "print('Shape de x_test', x_test.shape)\n",
    "\n",
    "print('Shape de y_train', y_train.shape)\n",
    "print('Shape de y_val', y_val.shape)\n",
    "print('Shape de y_test', y_test.shape)\n",
    "\n",
    "print(y_train[89])"
   ]
  },
  {
   "cell_type": "code",
   "execution_count": 5,
   "metadata": {},
   "outputs": [
    {
     "name": "stdout",
     "output_type": "stream",
     "text": [
      "[name: \"/device:CPU:0\"\n",
      "device_type: \"CPU\"\n",
      "memory_limit: 268435456\n",
      "locality {\n",
      "}\n",
      "incarnation: 4043536125691319463\n",
      ", name: \"/device:XLA_CPU:0\"\n",
      "device_type: \"XLA_CPU\"\n",
      "memory_limit: 17179869184\n",
      "locality {\n",
      "}\n",
      "incarnation: 13941212853161205574\n",
      "physical_device_desc: \"device: XLA_CPU device\"\n",
      ", name: \"/device:XLA_GPU:0\"\n",
      "device_type: \"XLA_GPU\"\n",
      "memory_limit: 17179869184\n",
      "locality {\n",
      "}\n",
      "incarnation: 3227103476869172295\n",
      "physical_device_desc: \"device: XLA_GPU device\"\n",
      "]\n"
     ]
    }
   ],
   "source": [
    "from tensorflow.python.client import device_lib\n",
    "print(device_lib.list_local_devices())"
   ]
  },
  {
   "cell_type": "code",
   "execution_count": 6,
   "metadata": {
    "colab": {
     "base_uri": "https://localhost:8080/",
     "height": 35
    },
    "colab_type": "code",
    "id": "hFDAPnRESwuW",
    "outputId": "2bcc8859-7dc0-4ad5-d2ef-c6d5a54b0352",
    "scrolled": true
   },
   "outputs": [
    {
     "name": "stdout",
     "output_type": "stream",
     "text": [
      "Model: \"sequential\"\n",
      "_________________________________________________________________\n",
      "Layer (type)                 Output Shape              Param #   \n",
      "=================================================================\n",
      "conv2d (Conv2D)              (None, 24, 24, 28)        728       \n",
      "_________________________________________________________________\n",
      "max_pooling2d (MaxPooling2D) (None, 8, 8, 28)          0         \n",
      "_________________________________________________________________\n",
      "conv2d_1 (Conv2D)            (None, 4, 4, 14)          9814      \n",
      "_________________________________________________________________\n",
      "max_pooling2d_1 (MaxPooling2 (None, 1, 1, 14)          0         \n",
      "_________________________________________________________________\n",
      "flatten (Flatten)            (None, 14)                0         \n",
      "_________________________________________________________________\n",
      "dense (Dense)                (None, 128)               1920      \n",
      "_________________________________________________________________\n",
      "dropout (Dropout)            (None, 128)               0         \n",
      "_________________________________________________________________\n",
      "dense_1 (Dense)              (None, 10)                1290      \n",
      "=================================================================\n",
      "Total params: 13,752\n",
      "Trainable params: 13,752\n",
      "Non-trainable params: 0\n",
      "_________________________________________________________________\n"
     ]
    }
   ],
   "source": [
    "# Importando os módulos do Keras necessários: model e layers\n",
    "from tensorflow.keras import Sequential\n",
    "from tensorflow.keras.layers import Conv2D, Flatten, Dense, MaxPooling2D, Dropout\n",
    "\n",
    "# Criando um modelo Sequential e adicionando as camadas\n",
    "model = Sequential()\n",
    "model.add(Conv2D(28, kernel_size=(5,5), input_shape=input_shape))\n",
    "model.add(MaxPooling2D(pool_size=(3, 3)))\n",
    "model.add(Conv2D(14, kernel_size=(5,5), input_shape=input_shape))\n",
    "model.add(MaxPooling2D(pool_size=(3, 3)))\n",
    "model.add(Flatten()) # Tornando os arrays 2D para flatten (achatado, 1D) para utilização de camadas totalmente conectadas\n",
    "model.add(Dense(128, activation=tf.nn.relu))\n",
    "model.add(Dropout(0.2)) # utiliza o dropout para melhorar o processo de treinamento e evitar under/overfitting\n",
    "model.add(Dense(10,activation=tf.nn.softmax))\n",
    "\n",
    "model.summary()"
   ]
  },
  {
   "cell_type": "code",
   "execution_count": 7,
   "metadata": {
    "colab": {
     "base_uri": "https://localhost:8080/",
     "height": 395
    },
    "colab_type": "code",
    "id": "3kn7LQVDT5yl",
    "outputId": "e0b76c3f-fe58-429a-de1c-9f0e003d4f5b"
   },
   "outputs": [
    {
     "name": "stdout",
     "output_type": "stream",
     "text": [
      "Epoch 1/20\n",
      "938/938 [==============================] - 11s 12ms/step - loss: 0.4529 - accuracy: 0.8614 - val_loss: 0.1765 - val_accuracy: 0.9472\n",
      "Epoch 2/20\n",
      "938/938 [==============================] - 11s 12ms/step - loss: 0.1535 - accuracy: 0.9528 - val_loss: 0.1203 - val_accuracy: 0.9642\n",
      "Epoch 3/20\n",
      "938/938 [==============================] - 10s 11ms/step - loss: 0.1127 - accuracy: 0.9646 - val_loss: 0.1071 - val_accuracy: 0.9672\n",
      "Epoch 4/20\n",
      "938/938 [==============================] - 10s 11ms/step - loss: 0.0903 - accuracy: 0.9725 - val_loss: 0.0939 - val_accuracy: 0.9722\n",
      "Epoch 5/20\n",
      "938/938 [==============================] - 10s 11ms/step - loss: 0.0766 - accuracy: 0.9755 - val_loss: 0.0913 - val_accuracy: 0.9728\n",
      "Epoch 6/20\n",
      "938/938 [==============================] - 10s 11ms/step - loss: 0.0659 - accuracy: 0.9793 - val_loss: 0.0902 - val_accuracy: 0.9731\n",
      "Epoch 7/20\n",
      "938/938 [==============================] - 10s 11ms/step - loss: 0.0562 - accuracy: 0.9823 - val_loss: 0.0937 - val_accuracy: 0.9724\n",
      "Epoch 8/20\n",
      "938/938 [==============================] - 10s 11ms/step - loss: 0.0517 - accuracy: 0.9828 - val_loss: 0.0831 - val_accuracy: 0.9760\n",
      "Epoch 9/20\n",
      "938/938 [==============================] - 10s 11ms/step - loss: 0.0454 - accuracy: 0.9844 - val_loss: 0.0824 - val_accuracy: 0.9775\n",
      "Epoch 10/20\n",
      "938/938 [==============================] - 10s 11ms/step - loss: 0.0424 - accuracy: 0.9860 - val_loss: 0.0784 - val_accuracy: 0.9783\n",
      "Epoch 11/20\n",
      "938/938 [==============================] - 10s 11ms/step - loss: 0.0359 - accuracy: 0.9884 - val_loss: 0.0791 - val_accuracy: 0.9786\n",
      "Epoch 12/20\n",
      "938/938 [==============================] - 10s 11ms/step - loss: 0.0336 - accuracy: 0.9889 - val_loss: 0.0772 - val_accuracy: 0.9800\n",
      "Epoch 13/20\n",
      "938/938 [==============================] - 10s 11ms/step - loss: 0.0315 - accuracy: 0.9892 - val_loss: 0.0865 - val_accuracy: 0.9789\n",
      "Epoch 14/20\n",
      "938/938 [==============================] - 10s 11ms/step - loss: 0.0286 - accuracy: 0.9906 - val_loss: 0.0790 - val_accuracy: 0.9802\n",
      "Epoch 15/20\n",
      "938/938 [==============================] - 10s 11ms/step - loss: 0.0265 - accuracy: 0.9912 - val_loss: 0.0803 - val_accuracy: 0.9801\n",
      "Epoch 16/20\n",
      "938/938 [==============================] - 11s 11ms/step - loss: 0.0253 - accuracy: 0.9914 - val_loss: 0.0995 - val_accuracy: 0.9765\n",
      "Epoch 17/20\n",
      "938/938 [==============================] - 10s 11ms/step - loss: 0.0205 - accuracy: 0.9932 - val_loss: 0.0889 - val_accuracy: 0.9794\n",
      "Epoch 18/20\n",
      "938/938 [==============================] - 11s 12ms/step - loss: 0.0210 - accuracy: 0.9925 - val_loss: 0.1085 - val_accuracy: 0.9771\n",
      "Epoch 19/20\n",
      "938/938 [==============================] - 11s 12ms/step - loss: 0.0238 - accuracy: 0.9924 - val_loss: 0.1077 - val_accuracy: 0.9771\n",
      "Epoch 20/20\n",
      "938/938 [==============================] - 11s 11ms/step - loss: 0.0194 - accuracy: 0.9930 - val_loss: 0.1001 - val_accuracy: 0.9787\n"
     ]
    },
    {
     "data": {
      "image/png": "[encoded data removed]",
      "text/plain": [
       "<Figure size 1440x360 with 1 Axes>"
      ]
     },
     "metadata": {
      "needs_background": "light"
     },
     "output_type": "display_data"
    }
   ],
   "source": [
    "model.compile(optimizer='adam', \n",
    "              loss='sparse_categorical_crossentropy', \n",
    "              metrics=['accuracy'])\n",
    "epochs = 20\n",
    "history = model.fit(x=x_train,\n",
    "                    y=y_train, \n",
    "                    epochs=epochs, \n",
    "                    verbose=1,\n",
    "                    validation_data=(x_val, y_val))\n",
    "\n",
    "# Resumo do historico de loss\n",
    "plt.figure(figsize=(20, 5))\n",
    "plt.plot(history.history['loss'], color='blue')\n",
    "plt.plot(history.history['val_loss'], color='red')\n",
    "plt.title('Model loss', fontsize=20)\n",
    "plt.ylabel('loss')\n",
    "plt.xlabel('epoch')\n",
    "plt.legend(['Treinamento', 'Validação'], loc='upper right', fontsize=14)\n",
    "plt.show()"
   ]
  },
  {
   "cell_type": "code",
   "execution_count": 8,
   "metadata": {
    "colab": {
     "base_uri": "https://localhost:8080/",
     "height": 53
    },
    "colab_type": "code",
    "id": "Kw1kTd7hVKap",
    "outputId": "da442a54-ccb1-428f-9de3-2826d9e25112"
   },
   "outputs": [
    {
     "name": "stdout",
     "output_type": "stream",
     "text": [
      "Test loss: 0.07244554162025452\n",
      "Test accuracy: 0.9825000166893005\n"
     ]
    }
   ],
   "source": [
    "# \n",
    "score = model.evaluate(x_test, y_test, verbose=0)\n",
    "print('Test loss:', score[0])\n",
    "print('Test accuracy:', score[1])\n",
    "\n"
   ]
  },
  {
   "cell_type": "code",
   "execution_count": 9,
   "metadata": {
    "colab": {
     "base_uri": "https://localhost:8080/",
     "height": 283
    },
    "colab_type": "code",
    "id": "c3J5azLJVpKI",
    "outputId": "06b238a3-f853-494a-d7c3-26d41f38c762"
   },
   "outputs": [
    {
     "name": "stdout",
     "output_type": "stream",
     "text": [
      "4 4\n"
     ]
    },
    {
     "data": {
      "image/png": "[encoded data removed]",
      "text/plain": [
       "<Figure size 432x288 with 1 Axes>"
      ]
     },
     "metadata": {
      "needs_background": "light"
     },
     "output_type": "display_data"
    }
   ],
   "source": [
    "image_index = 42\n",
    "plt.imshow(x_test[image_index].reshape(28, 28),cmap='Greys')\n",
    "pred = model.predict(x_test[image_index].reshape(1, 28, 28, 1))\n",
    "print(pred.argmax(),y_test[image_index])"
   ]
  },
  {
   "cell_type": "code",
   "execution_count": null,
   "metadata": {},
   "outputs": [],
   "source": []
  }
 ],
 "metadata": {
  "accelerator": "GPU",
  "colab": {
   "collapsed_sections": [],
   "include_colab_link": true,
   "name": "Image Classification in 10 Minutes with MNIST Dataset ",
   "provenance": [],
   "version": "0.3.2"
  },
  "kernelspec": {
   "display_name": "Python 3",
   "language": "python",
   "name": "python3"
  },
  "language_info": {
   "codemirror_mode": {
    "name": "ipython",
    "version": 3
   },
   "file_extension": ".py",
   "mimetype": "text/x-python",
   "name": "python",
   "nbconvert_exporter": "python",
   "pygments_lexer": "ipython3",
   "version": "3.8.3"
  }
 },
 "nbformat": 4,
 "nbformat_minor": 1
}
